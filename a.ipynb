{
 "cells": [
  {
   "cell_type": "code",
   "execution_count": 1,
   "metadata": {},
   "outputs": [],
   "source": [
    "from tkinter import *\n",
    "from tkinter import ttk"
   ]
  },
  {
   "cell_type": "markdown",
   "metadata": {},
   "source": [
    "TButton\n",
    "TLabel：标签控件  \n",
    "TEntry：文本输入框控件  \n",
    "TCombobox：下拉列表框控件  \n",
    "TRadiobutton：单选按钮控件  \n",
    "TCheckbutton：复选按钮控件  \n",
    "TScrollbar：滚动条控件  \n",
    "TProgressbar：进度条控件  \n",
    "TSpinbox：数字输入框控件  \n",
    "TTreeview：树状视图控件  \n",
    "TNotebook：选项卡控件  "
   ]
  },
  {
   "cell_type": "code",
   "execution_count": 9,
   "metadata": {},
   "outputs": [
    {
     "name": "stdout",
     "output_type": "stream",
     "text": [
      "('clam', 'alt', 'default', 'classic')\n",
      "default\n",
      "\n",
      "主题: clam\n",
      "('Combobox.field', 'downarrow', 'Menubutton.indicator', 'border', 'leftarrow', 'Radiobutton.indicator', 'vgrip', 'thumb', 'uparrow', 'trough', 'rightarrow', 'hgrip', 'slider', 'field', 'pbar', 'bar', 'Checkbutton.indicator', 'client', 'tab')\n",
      "\n",
      "主题: alt\n",
      "('arrow', 'downarrow', 'Menubutton.indicator', 'border', 'Radiobutton.indicator', 'leftarrow', 'thumb', 'uparrow', 'trough', 'rightarrow', 'Treeitem.indicator', 'slider', 'field', 'Checkbutton.indicator')\n",
      "\n",
      "主题: default\n",
      "('label', '', 'focus', 'treearea', 'separator', 'image', 'arrow', 'downarrow', 'Menubutton.indicator', 'Treeitem.row', 'vsash', 'text', 'sizegrip', 'indicator', 'Treeheading.cell', 'leftarrow', 'border', 'Radiobutton.indicator', 'hsash', 'vseparator', 'fill', 'thumb', 'background', 'uparrow', 'hseparator', 'trough', 'rightarrow', 'Treeitem.indicator', 'slider', 'field', 'pbar', 'Checkbutton.indicator', 'textarea', 'client', 'tab', 'padding')\n",
      "\n",
      "主题: classic\n",
      "('uparrow', 'Button.border', 'highlight', 'vsash', 'rightarrow', 'leftarrow', 'hsash', 'arrow', 'downarrow')\n"
     ]
    }
   ],
   "source": [
    "style = ttk.Style()\n",
    "print(style.theme_names())  # 打印可用的主题名称\n",
    "print(style.theme_use())    # 打印当前使用的主题名称\n",
    "\n",
    "# 遍历每个主题，打印该主题下的所有样式\n",
    "for theme in style.theme_names():\n",
    "    print(f\"\\n主题: {theme}\")\n",
    "    style.theme_use(theme)\n",
    "    print(style.element_names())"
   ]
  },
  {
   "cell_type": "code",
   "execution_count": null,
   "metadata": {},
   "outputs": [],
   "source": []
  },
  {
   "cell_type": "code",
   "execution_count": 4,
   "metadata": {},
   "outputs": [],
   "source": [
    "style.configure(\"BW.TLabel\")"
   ]
  }
 ],
 "metadata": {
  "kernelspec": {
   "display_name": "Python 3",
   "language": "python",
   "name": "python3"
  },
  "language_info": {
   "codemirror_mode": {
    "name": "ipython",
    "version": 3
   },
   "file_extension": ".py",
   "mimetype": "text/x-python",
   "name": "python",
   "nbconvert_exporter": "python",
   "pygments_lexer": "ipython3",
   "version": "3.11.5"
  },
  "orig_nbformat": 4
 },
 "nbformat": 4,
 "nbformat_minor": 2
}
